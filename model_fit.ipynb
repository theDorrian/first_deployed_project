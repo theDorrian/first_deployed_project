{
 "cells": [
  {
   "cell_type": "code",
   "execution_count": 2,
   "id": "69199ff9",
   "metadata": {},
   "outputs": [
    {
     "data": {
      "application/vnd.jupyter.widget-view+json": {
       "model_id": "75e4a73956cb4583a6316238413def1f",
       "version_major": 2,
       "version_minor": 0
      },
      "text/plain": [
       "MetricVisualizer(layout=Layout(align_self='stretch', height='500px'))"
      ]
     },
     "metadata": {},
     "output_type": "display_data"
    },
    {
     "name": "stdout",
     "output_type": "stream",
     "text": [
      "Learning rate set to 0.042133\n",
      "0:\tlearn: 0.6436102\ttotal: 5.06ms\tremaining: 5.52s\n",
      "100:\tlearn: 0.1543140\ttotal: 947ms\tremaining: 9.3s\n",
      "200:\tlearn: 0.1467631\ttotal: 2.1s\tremaining: 9.35s\n",
      "300:\tlearn: 0.1430357\ttotal: 3.27s\tremaining: 8.59s\n",
      "400:\tlearn: 0.1398797\ttotal: 4.44s\tremaining: 7.66s\n",
      "500:\tlearn: 0.1371626\ttotal: 5.63s\tremaining: 6.66s\n",
      "600:\tlearn: 0.1341771\ttotal: 6.83s\tremaining: 5.59s\n",
      "700:\tlearn: 0.1310185\ttotal: 8.03s\tremaining: 4.49s\n",
      "800:\tlearn: 0.1282023\ttotal: 9.23s\tremaining: 3.37s\n",
      "900:\tlearn: 0.1255076\ttotal: 10.4s\tremaining: 2.22s\n",
      "1000:\tlearn: 0.1231062\ttotal: 11.6s\tremaining: 1.07s\n",
      "1092:\tlearn: 0.1209859\ttotal: 12.8s\tremaining: 0us\n",
      "Predictoins:\n",
      "[[0.3002 0.6998]\n",
      " [0.0116 0.9884]\n",
      " [0.012  0.988 ]\n",
      " ...\n",
      " [0.0053 0.9947]\n",
      " [0.0431 0.9569]\n",
      " [0.0125 0.9875]]\n"
     ]
    }
   ],
   "source": [
    "import pandas as pd\n",
    "import os\n",
    "import numpy as np\n",
    "np.set_printoptions(precision=4)\n",
    "import catboost\n",
    "from catboost import *\n",
    "from catboost import datasets\n",
    "\n",
    "(train_df, test_df) = catboost.datasets.amazon()\n",
    "\n",
    "from sklearn.model_selection import train_test_split\n",
    "\n",
    "y = train_df.ACTION\n",
    "X = train_df.drop('ACTION', axis=1)\n",
    "\n",
    "cat_features = list(range(0, X.shape[1]))\n",
    "\n",
    "X_train, X_validation, y_train, y_validation = train_test_split(X, y, train_size=0.8, random_state=1234)\n",
    "\n",
    "tunned_model = CatBoostClassifier(\n",
    "    random_seed=63,                 # Фиксированный сид для воспроизводимости результатов\n",
    "    iterations=1000,                 # Количество деревьев (итераций) в бустинге, увеличено для лучшего качества\n",
    "    learning_rate=0.03,              # Скорость обучения, баланс между сходимостью и переобучением\n",
    "    l2_leaf_reg=3,                   # Коэффициент L2-регуляризации на значения в листьях деревьев (предотвращает переобучение)\n",
    "    bagging_temperature=1,           # Температура для случайности в бутстрапе (чем выше, тем более разнообразные деревья)\n",
    "    random_strength=1,               # Величина шума для предотвращения переобучения в CTR-признаках\n",
    "    one_hot_max_size=2,              # Порог для one-hot кодирования (больше — значит, больше признаков кодируются OHE)\n",
    "    leaf_estimation_method='Newton'  # Метод обновления весов в листьях (Newton дольше но лучше качество может дать, чем Gradient)\n",
    ")\n",
    "\n",
    "tunned_model.fit(\n",
    "    X_train, y_train,\n",
    "    cat_features=cat_features,       # Список категориальных признаков\n",
    "    verbose=False,                    # Отключение текстового вывода в консоль\n",
    "    eval_set=(X_validation, y_validation),  # Валидационный набор для контроля переобучения\n",
    "    plot=True                         # Включение графической визуализации обучения\n",
    ")\n",
    "\n",
    "best_model = CatBoostClassifier(\n",
    "    random_seed=63,\n",
    "    iterations=int(tunned_model.tree_count_ * 1.2),\n",
    ")\n",
    "\n",
    "best_model.fit(\n",
    "    X, y,\n",
    "    cat_features=cat_features,\n",
    "    verbose=100\n",
    ")\n",
    "\n",
    "X_test = test_df.drop('id', axis=1)\n",
    "test_pool = Pool(data=X_test, cat_features=cat_features)\n",
    "contest_predictions = best_model.predict_proba(test_pool)\n",
    "print('Predictoins:')\n",
    "print(contest_predictions)\n",
    "\n",
    "f = open('submit.csv', 'w')\n",
    "f.write('Id,Action\\n')\n",
    "for idx in range(len(contest_predictions)):\n",
    "    line = str(test_df['id'][idx]) + ',' + str(contest_predictions[idx][1]) + '\\n'\n",
    "    f.write(line)\n",
    "f.close()"
   ]
  },
  {
   "cell_type": "code",
   "execution_count": null,
   "id": "93901fa6",
   "metadata": {},
   "outputs": [],
   "source": []
  },
  {
   "cell_type": "code",
   "execution_count": null,
   "id": "01491014",
   "metadata": {},
   "outputs": [],
   "source": []
  },
  {
   "cell_type": "code",
   "execution_count": null,
   "id": "e6bbb237",
   "metadata": {},
   "outputs": [],
   "source": []
  },
  {
   "cell_type": "code",
   "execution_count": null,
   "id": "22a6b473",
   "metadata": {},
   "outputs": [],
   "source": []
  },
  {
   "cell_type": "code",
   "execution_count": null,
   "id": "7dfd33f5",
   "metadata": {},
   "outputs": [],
   "source": []
  },
  {
   "cell_type": "code",
   "execution_count": null,
   "id": "efc7972c",
   "metadata": {},
   "outputs": [],
   "source": []
  }
 ],
 "metadata": {
  "kernelspec": {
   "display_name": ".venv",
   "language": "python",
   "name": "python3"
  },
  "language_info": {
   "codemirror_mode": {
    "name": "ipython",
    "version": 3
   },
   "file_extension": ".py",
   "mimetype": "text/x-python",
   "name": "python",
   "nbconvert_exporter": "python",
   "pygments_lexer": "ipython3",
   "version": "3.11.9"
  }
 },
 "nbformat": 4,
 "nbformat_minor": 5
}
